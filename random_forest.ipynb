{
  "nbformat": 4,
  "nbformat_minor": 0,
  "metadata": {
    "colab": {
      "name": "random_forest.ipynb",
      "provenance": [],
      "authorship_tag": "ABX9TyMk39n1fORvON0k8bwp9kOM",
      "include_colab_link": true
    },
    "kernelspec": {
      "name": "python3",
      "display_name": "Python 3"
    },
    "language_info": {
      "name": "python"
    }
  },
  "cells": [
    {
      "cell_type": "markdown",
      "metadata": {
        "id": "view-in-github",
        "colab_type": "text"
      },
      "source": [
        "<a href=\"https://colab.research.google.com/github/JeanAlvesR/CursoMachineLearning/blob/master/random_forest.ipynb\" target=\"_parent\"><img src=\"https://colab.research.google.com/assets/colab-badge.svg\" alt=\"Open In Colab\"/></a>"
      ]
    },
    {
      "cell_type": "markdown",
      "source": [
        "# Random Forest"
      ],
      "metadata": {
        "id": "jYHD6yH-CzpO"
      }
    },
    {
      "cell_type": "code",
      "source": [
        "from sklearn.ensemble import RandomForestClassifier\n",
        "import pickle\n",
        "from sklearn.metrics import accuracy_score, classification_report\n",
        "from yellowbrick.classifier import ConfusionMatrix\n"
      ],
      "metadata": {
        "id": "VoHYnN_yDZ18"
      },
      "execution_count": 26,
      "outputs": []
    },
    {
      "cell_type": "markdown",
      "source": [
        "##Base Credit"
      ],
      "metadata": {
        "id": "Bb5aQh0cC2lk"
      }
    },
    {
      "cell_type": "code",
      "source": [
        "with open('credit.pkl','rb') as f:\n",
        "  x_credit_train, y_credit_train, x_credit_test, y_credit_test = pickle.load(f)"
      ],
      "metadata": {
        "id": "mGB69YGiCxLK"
      },
      "execution_count": 27,
      "outputs": []
    },
    {
      "cell_type": "code",
      "source": [
        "#N_estimators = 10 => 10 árvores de decisão serão criadas aleatoriamente. A árvore que tomará\n",
        "# as decisões será com base na quantidade de saídas que mais se repetir.\n",
        "#Entropy => A estruturação das árvores será baseada no ganho de informação\n",
        "#BEM SUPERFICIAL\n",
        "random_forest_credit = RandomForestClassifier(n_estimators=100,criterion='entropy',random_state=0)\n",
        "random_forest_credit.fit(x_credit_train, y_credit_train)"
      ],
      "metadata": {
        "colab": {
          "base_uri": "https://localhost:8080/"
        },
        "id": "diwc4_CXDnrG",
        "outputId": "f4ace43d-aa88-4bd2-fead-e95a889344d1"
      },
      "execution_count": 28,
      "outputs": [
        {
          "output_type": "execute_result",
          "data": {
            "text/plain": [
              "RandomForestClassifier(criterion='entropy', random_state=0)"
            ]
          },
          "metadata": {},
          "execution_count": 28
        }
      ]
    },
    {
      "cell_type": "code",
      "source": [
        "previsoes = random_forest_credit.predict(x_credit_test)"
      ],
      "metadata": {
        "id": "E7JM0QYIE8Ih"
      },
      "execution_count": 29,
      "outputs": []
    },
    {
      "cell_type": "code",
      "source": [
        ""
      ],
      "metadata": {
        "id": "g9DIqqC0FLTb"
      },
      "execution_count": 29,
      "outputs": []
    },
    {
      "cell_type": "code",
      "source": [
        "accuracy_score(y_credit_test, previsoes)\n",
        "# 1 árvore == 98.2%\n",
        "# Naive Bayes == 93.8%\n",
        "#Com 10 árvores randomicas, o resultado foi de 96.8% \n",
        "#Com 40, o resultado foi para 98.4%\n",
        "#Com 100, 98.2%\n",
        "\n",
        "#Nem sempre o aumento das árvores pressupõe um aumento na precisão."
      ],
      "metadata": {
        "colab": {
          "base_uri": "https://localhost:8080/"
        },
        "id": "XD9Qw5mAFMw3",
        "outputId": "365c448a-b120-40f7-ba57-6e7b30b5c35a"
      },
      "execution_count": 30,
      "outputs": [
        {
          "output_type": "execute_result",
          "data": {
            "text/plain": [
              "0.982"
            ]
          },
          "metadata": {},
          "execution_count": 30
        }
      ]
    },
    {
      "cell_type": "code",
      "source": [
        "cm = ConfusionMatrix(random_forest_credit)\n",
        "cm.fit(x_credit_train, y_credit_train)\n",
        "cm.score(x_credit_test, y_credit_test)"
      ],
      "metadata": {
        "colab": {
          "base_uri": "https://localhost:8080/",
          "height": 362
        },
        "id": "Ef-DCfivFX8G",
        "outputId": "9807bdb5-6554-4fd5-e7dc-3bbabfdae9f4"
      },
      "execution_count": 31,
      "outputs": [
        {
          "output_type": "execute_result",
          "data": {
            "text/plain": [
              "0.982"
            ]
          },
          "metadata": {},
          "execution_count": 31
        },
        {
          "output_type": "display_data",
          "data": {
            "text/plain": [
              "<Figure size 576x396 with 1 Axes>"
            ],
            "image/png": "[encoded data removed]"
          },
          "metadata": {}
        }
      ]
    },
    {
      "cell_type": "code",
      "source": [
        "print(classification_report(y_credit_test, previsoes))"
      ],
      "metadata": {
        "colab": {
          "base_uri": "https://localhost:8080/"
        },
        "id": "D3V2CUyiF2v5",
        "outputId": "188bdbc2-5513-44ee-e299-bcc9b7fa14f9"
      },
      "execution_count": 32,
      "outputs": [
        {
          "output_type": "stream",
          "name": "stdout",
          "text": [
            "              precision    recall  f1-score   support\n",
            "\n",
            "           0       0.99      0.99      0.99       436\n",
            "           1       0.95      0.91      0.93        64\n",
            "\n",
            "    accuracy                           0.98       500\n",
            "   macro avg       0.97      0.95      0.96       500\n",
            "weighted avg       0.98      0.98      0.98       500\n",
            "\n"
          ]
        }
      ]
    },
    {
      "cell_type": "markdown",
      "source": [
        "## Base Census"
      ],
      "metadata": {
        "id": "h8ZIrHaqKUSJ"
      }
    },
    {
      "cell_type": "code",
      "source": [
        "with open('census.pkl','rb') as f:\n",
        "  X_census_train, y_census_train, X_census_test, y_census_test = pickle.load(f)"
      ],
      "metadata": {
        "id": "I6Mb3vRCKXeN"
      },
      "execution_count": 33,
      "outputs": []
    },
    {
      "cell_type": "code",
      "source": [
        "random_forest_census = RandomForestClassifier(n_estimators=100,criterion='entropy',random_state=0)\n",
        "random_forest_census.fit(X_census_train, y_census_train)"
      ],
      "metadata": {
        "colab": {
          "base_uri": "https://localhost:8080/"
        },
        "id": "sLjIof4-Kbey",
        "outputId": "abf6ce03-62e1-428f-b951-f37caecd6142"
      },
      "execution_count": 48,
      "outputs": [
        {
          "output_type": "execute_result",
          "data": {
            "text/plain": [
              "RandomForestClassifier(criterion='entropy', random_state=0)"
            ]
          },
          "metadata": {},
          "execution_count": 48
        }
      ]
    },
    {
      "cell_type": "code",
      "source": [
        "previsoes = random_forest_census.predict(X_census_test)"
      ],
      "metadata": {
        "id": "BSxrB39iKzwg"
      },
      "execution_count": 49,
      "outputs": []
    },
    {
      "cell_type": "code",
      "source": [
        "accuracy_score(y_census_test, previsoes)"
      ],
      "metadata": {
        "colab": {
          "base_uri": "https://localhost:8080/"
        },
        "id": "5b0RDqiSK6vx",
        "outputId": "583200d9-ca4e-4485-c3dc-659f0e0da681"
      },
      "execution_count": 50,
      "outputs": [
        {
          "output_type": "execute_result",
          "data": {
            "text/plain": [
              "0.8507676560900717"
            ]
          },
          "metadata": {},
          "execution_count": 50
        }
      ]
    },
    {
      "cell_type": "code",
      "source": [
        "cm = ConfusionMatrix(random_forest_census)\n",
        "cm.fit(X_census_train, y_census_train)\n",
        "cm.score(X_census_test, y_census_test)"
      ],
      "metadata": {
        "colab": {
          "base_uri": "https://localhost:8080/",
          "height": 394
        },
        "id": "VgPzJs7zK8y7",
        "outputId": "ba7e2102-2662-4b3c-fa32-4d23686c6790"
      },
      "execution_count": 51,
      "outputs": [
        {
          "output_type": "execute_result",
          "data": {
            "text/plain": [
              "0.8507676560900717"
            ]
          },
          "metadata": {},
          "execution_count": 51
        },
        {
          "output_type": "display_data",
          "data": {
            "text/plain": [
              "<Figure size 576x396 with 1 Axes>"
            ],
            "image/png": "[encoded data removed]"
          },
          "metadata": {}
        }
      ]
    },
    {
      "cell_type": "code",
      "source": [
        "print(classification_report(y_census_test, previsoes))"
      ],
      "metadata": {
        "colab": {
          "base_uri": "https://localhost:8080/"
        },
        "id": "1OpWZUZdLARk",
        "outputId": "320a46fa-0c27-428a-8933-6789e7e2c37c"
      },
      "execution_count": 52,
      "outputs": [
        {
          "output_type": "stream",
          "name": "stdout",
          "text": [
            "              precision    recall  f1-score   support\n",
            "\n",
            "       <=50K       0.88      0.93      0.90      3693\n",
            "        >50K       0.73      0.62      0.67      1192\n",
            "\n",
            "    accuracy                           0.85      4885\n",
            "   macro avg       0.81      0.77      0.79      4885\n",
            "weighted avg       0.85      0.85      0.85      4885\n",
            "\n"
          ]
        }
      ]
    },
    {
      "cell_type": "markdown",
      "source": [
        "Resultado: \n",
        "\n",
        "Naive Bayes: 47.67%\n",
        "\n",
        "Árvore de Decisão: 81.04%\n",
        "\n",
        "Random Forest (40): 84.77%\n",
        "\n",
        "Random Forest (100): 85.08%\n"
      ],
      "metadata": {
        "id": "QtmjEg0KLoIi"
      }
    },
    {
      "cell_type": "code",
      "source": [
        ""
      ],
      "metadata": {
        "id": "7ksUGFxPLRvA"
      },
      "execution_count": null,
      "outputs": []
    }
  ]
}