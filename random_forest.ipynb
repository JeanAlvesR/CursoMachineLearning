{
  "nbformat": 4,
  "nbformat_minor": 0,
  "metadata": {
    "colab": {
      "name": "random_forest.ipynb",
      "provenance": [],
      "authorship_tag": "ABX9TyO4YJ7rYavUWrsonA8YJPdy",
      "include_colab_link": true
    },
    "kernelspec": {
      "name": "python3",
      "display_name": "Python 3"
    },
    "language_info": {
      "name": "python"
    }
  },
  "cells": [
    {
      "cell_type": "markdown",
      "metadata": {
        "id": "view-in-github",
        "colab_type": "text"
      },
      "source": [
        "<a href=\"https://colab.research.google.com/github/JeanAlvesR/CursoMachineLearning/blob/master/random_forest.ipynb\" target=\"_parent\"><img src=\"https://colab.research.google.com/assets/colab-badge.svg\" alt=\"Open In Colab\"/></a>"
      ]
    },
    {
      "cell_type": "markdown",
      "source": [
        "# Random Forest"
      ],
      "metadata": {
        "id": "jYHD6yH-CzpO"
      }
    },
    {
      "cell_type": "code",
      "source": [
        "from sklearn.ensemble import RandomForestClassifier\n",
        "import pickle\n",
        "from sklearn.metrics import accuracy_score, classification_report\n",
        "from yellowbrick.classifier import ConfusionMatrix\n"
      ],
      "metadata": {
        "id": "VoHYnN_yDZ18"
      },
      "execution_count": 26,
      "outputs": []
    },
    {
      "cell_type": "markdown",
      "source": [
        "##Base Credit"
      ],
      "metadata": {
        "id": "Bb5aQh0cC2lk"
      }
    },
    {
      "cell_type": "code",
      "source": [
        "with open('credit.pkl','rb') as f:\n",
        "  x_credit_train, y_credit_train, x_credit_test, y_credit_test = pickle.load(f)"
      ],
      "metadata": {
        "id": "mGB69YGiCxLK"
      },
      "execution_count": 27,
      "outputs": []
    },
    {
      "cell_type": "code",
      "source": [
        "#N_estimators = 10 => 10 árvores de decisão serão criadas aleatoriamente. A árvore que tomará\n",
        "# as decisões será com base na quantidade de saídas que mais se repetir.\n",
        "#Entropy => A estruturação das árvores será baseada no ganho de informação\n",
        "#BEM SUPERFICIAL\n",
        "random_forest_credit = RandomForestClassifier(n_estimators=100,criterion='entropy',random_state=0)\n",
        "random_forest_credit.fit(x_credit_train, y_credit_train)"
      ],
      "metadata": {
        "colab": {
          "base_uri": "https://localhost:8080/"
        },
        "id": "diwc4_CXDnrG",
        "outputId": "f4ace43d-aa88-4bd2-fead-e95a889344d1"
      },
      "execution_count": 28,
      "outputs": [
        {
          "output_type": "execute_result",
          "data": {
            "text/plain": [
              "RandomForestClassifier(criterion='entropy', random_state=0)"
            ]
          },
          "metadata": {},
          "execution_count": 28
        }
      ]
    },
    {
      "cell_type": "code",
      "source": [
        "previsoes = random_forest_credit.predict(x_credit_test)"
      ],
      "metadata": {
        "id": "E7JM0QYIE8Ih"
      },
      "execution_count": 29,
      "outputs": []
    },
    {
      "cell_type": "code",
      "source": [
        ""
      ],
      "metadata": {
        "id": "g9DIqqC0FLTb"
      },
      "execution_count": 29,
      "outputs": []
    },
    {
      "cell_type": "code",
      "source": [
        "accuracy_score(y_credit_test, previsoes)\n",
        "# 1 árvore == 98.2%\n",
        "# Naive Bayes == 93.8%\n",
        "#Com 10 árvores randomicas, o resultado foi de 96.8% \n",
        "#Com 40, o resultado foi para 98.4%\n",
        "#Com 100, 98.2%\n",
        "\n",
        "#Nem sempre o aumento das árvores pressupõe um aumento na precisão."
      ],
      "metadata": {
        "colab": {
          "base_uri": "https://localhost:8080/"
        },
        "id": "XD9Qw5mAFMw3",
        "outputId": "365c448a-b120-40f7-ba57-6e7b30b5c35a"
      },
      "execution_count": 30,
      "outputs": [
        {
          "output_type": "execute_result",
          "data": {
            "text/plain": [
              "0.982"
            ]
          },
          "metadata": {},
          "execution_count": 30
        }
      ]
    },
    {
      "cell_type": "code",
      "source": [
        "cm = ConfusionMatrix(random_forest_credit)\n",
        "cm.fit(x_credit_train, y_credit_train)\n",
        "cm.score(x_credit_test, y_credit_test)"
      ],
      "metadata": {
        "colab": {
          "base_uri": "https://localhost:8080/",
          "height": 362
        },
        "id": "Ef-DCfivFX8G",
        "outputId": "9807bdb5-6554-4fd5-e7dc-3bbabfdae9f4"
      },
      "execution_count": 31,
      "outputs": [
        {
          "output_type": "execute_result",
          "data": {
            "text/plain": [
              "0.982"
            ]
          },
          "metadata": {},
          "execution_count": 31
        },
        {
          "output_type": "display_data",
          "data": {
            "text/plain": [
              "<Figure size 576x396 with 1 Axes>"
            ],
            "image/png": "[encoded data removed]"
          },
          "metadata": {}
        }
      ]
    },
    {
      "cell_type": "code",
      "source": [
        "print(classification_report(y_credit_test, previsoes))"
      ],
      "metadata": {
        "colab": {
          "base_uri": "https://localhost:8080/"
        },
        "id": "D3V2CUyiF2v5",
        "outputId": "188bdbc2-5513-44ee-e299-bcc9b7fa14f9"
      },
      "execution_count": 32,
      "outputs": [
        {
          "output_type": "stream",
          "name": "stdout",
          "text": [
            "              precision    recall  f1-score   support\n",
            "\n",
            "           0       0.99      0.99      0.99       436\n",
            "           1       0.95      0.91      0.93        64\n",
            "\n",
            "    accuracy                           0.98       500\n",
            "   macro avg       0.97      0.95      0.96       500\n",
            "weighted avg       0.98      0.98      0.98       500\n",
            "\n"
          ]
        }
      ]
    }
  ]
}